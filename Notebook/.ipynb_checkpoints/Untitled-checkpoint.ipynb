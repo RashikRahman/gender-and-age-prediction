{
 "cells": [
  {
   "cell_type": "code",
   "execution_count": 3,
   "metadata": {},
   "outputs": [],
   "source": [
    "import numpy as np\n",
    "import pywt\n",
    "import cv2    \n",
    "import os\n",
    "import matplotlib.pyplot as plt\n",
    "from collections import Counter\n",
    "import seaborn as sns\n",
    "import os\n",
    "\n",
    "def w2d(img, mode='haar', level=1):\n",
    "    imArray = img\n",
    "    imArray = cv2.cvtColor( imArray,cv2.COLOR_RGB2GRAY )\n",
    "    imArray =  np.float32(imArray)   \n",
    "    imArray /= 255.0;\n",
    "    coeffs=pywt.wavedec2(imArray, mode, level=level)\n",
    "    coeffs_H=list(coeffs)  \n",
    "    coeffs_H[0] *= 0;  \n",
    "    imArray_H=pywt.waverec2(coeffs_H, mode);\n",
    "    imArray_H *= 255.0;\n",
    "    imArray_H =  np.uint8(imArray_H)\n",
    "    return imArray_H"
   ]
  },
  {
   "cell_type": "code",
   "execution_count": 1,
   "metadata": {},
   "outputs": [],
   "source": [
    "subdir = ['Male','Female']\n",
    "path = '../Data/Gender detection/Train/'"
   ]
  },
  {
   "cell_type": "code",
   "execution_count": 4,
   "metadata": {},
   "outputs": [],
   "source": [
    "X_train, y_train = [], []\n",
    "for gender in subdir:\n",
    "    for img_name in os.listdir(path+gender):\n",
    "        img = cv2.imread(path+gender+'/'+img_name)\n",
    "        scalled_raw_img = cv2.resize(img, (32, 32))\n",
    "        img_har = w2d(img,'db1',5)\n",
    "        scalled_img_har = cv2.resize(img_har, (32, 32))\n",
    "        combined_img = np.vstack((scalled_raw_img.reshape(32*32*3,1),scalled_img_har.reshape(32*32,1)))\n",
    "        X_train.append(combined_img)\n",
    "        if gender=='Male':\n",
    "            y_train.append(1)\n",
    "        else:\n",
    "            y_train.append(0)"
   ]
  },
  {
   "cell_type": "code",
   "execution_count": 5,
   "metadata": {},
   "outputs": [],
   "source": [
    "subdir = ['Male','Female']\n",
    "path = '../Data/Gender detection/Test/'"
   ]
  },
  {
   "cell_type": "code",
   "execution_count": 6,
   "metadata": {},
   "outputs": [],
   "source": [
    "X_test, y_test = [], []\n",
    "for gender in subdir:\n",
    "    for img_name in os.listdir(path+gender):\n",
    "        img = cv2.imread(path+gender+'/'+img_name)\n",
    "        scalled_raw_img = cv2.resize(img, (32, 32))\n",
    "        img_har = w2d(img,'db1',5)\n",
    "        scalled_img_har = cv2.resize(img_har, (32, 32))\n",
    "        combined_img = np.vstack((scalled_raw_img.reshape(32*32*3,1),scalled_img_har.reshape(32*32,1)))\n",
    "        X_test.append(combined_img)\n",
    "#         y_test.append(int((val_lbl_npy[int(img_name.split('.')[0])]).split('-')[0]))\n",
    "        if gender=='Male':\n",
    "            y_test.append(1)\n",
    "        else:\n",
    "            y_test.append(0)"
   ]
  },
  {
   "cell_type": "code",
   "execution_count": 7,
   "metadata": {},
   "outputs": [
    {
     "data": {
      "text/plain": [
       "((11135, 4096), (1279, 4096), (11135,), (1279,))"
      ]
     },
     "execution_count": 7,
     "metadata": {},
     "output_type": "execute_result"
    }
   ],
   "source": [
    "X_train = np.array(X_train).reshape(len(X_train),4096).astype(float)\n",
    "X_test = np.array(X_test).reshape(len(X_test),4096).astype(float)\n",
    "\n",
    "y_train = np.array(y_train).astype(int)\n",
    "y_test = np.array(y_test).astype(int)\n",
    "\n",
    "X_train.shape, X_test.shape, y_train.shape, y_test.shape"
   ]
  },
  {
   "cell_type": "code",
   "execution_count": 9,
   "metadata": {},
   "outputs": [],
   "source": [
    "from sklearn.svm import SVC\n",
    "\n",
    "model = SVC(C=7.0)"
   ]
  },
  {
   "cell_type": "code",
   "execution_count": 10,
   "metadata": {},
   "outputs": [
    {
     "data": {
      "text/plain": [
       "SVC(C=7.0)"
      ]
     },
     "execution_count": 10,
     "metadata": {},
     "output_type": "execute_result"
    }
   ],
   "source": [
    "model.fit(X_train,y_train)"
   ]
  },
  {
   "cell_type": "code",
   "execution_count": 11,
   "metadata": {},
   "outputs": [],
   "source": [
    "subdir = ['Male','Female']\n",
    "path = '../Data/Gender detection/priv_test_cpy/'\n",
    "\n",
    "X_test_priv, y_test_priv = [], []\n",
    "for gender in subdir:\n",
    "    for img_name in os.listdir(path+gender):\n",
    "        img = cv2.imread(path+gender+'/'+img_name)\n",
    "        scalled_raw_img = cv2.resize(img, (32, 32))\n",
    "        img_har = w2d(img,'db1',5)\n",
    "        scalled_img_har = cv2.resize(img_har, (32, 32))\n",
    "        combined_img = np.vstack((scalled_raw_img.reshape(32*32*3,1),scalled_img_har.reshape(32*32,1)))\n",
    "        X_test_priv.append(combined_img)\n",
    "#         y_test.append(int((val_lbl_npy[int(img_name.split('.')[0])]).split('-')[0]))\n",
    "        if gender=='Male':\n",
    "            y_test_priv.append(1)\n",
    "        else:\n",
    "            y_test_priv.append(0)"
   ]
  },
  {
   "cell_type": "code",
   "execution_count": 14,
   "metadata": {},
   "outputs": [],
   "source": [
    "X_test_priv = np.array(X_test_priv).reshape(len(X_test_priv),4096).astype(float)\n",
    "\n",
    "y_test_priv = np.array(y_test_priv).astype(int)"
   ]
  },
  {
   "cell_type": "code",
   "execution_count": 12,
   "metadata": {},
   "outputs": [
    {
     "name": "stdout",
     "output_type": "stream",
     "text": [
      "              precision    recall  f1-score   support\n",
      "\n",
      "           0       0.80      0.77      0.78       502\n",
      "           1       0.86      0.87      0.86       777\n",
      "\n",
      "    accuracy                           0.83      1279\n",
      "   macro avg       0.83      0.82      0.82      1279\n",
      "weighted avg       0.83      0.83      0.83      1279\n",
      "\n"
     ]
    }
   ],
   "source": [
    "from sklearn.metrics import y_test_privtion_report\n",
    "print(classification_report(y_test,model.predict(X_test)))"
   ]
  },
  {
   "cell_type": "code",
   "execution_count": 19,
   "metadata": {},
   "outputs": [
    {
     "name": "stdout",
     "output_type": "stream",
     "text": [
      "              precision    recall  f1-score   support\n",
      "\n",
      "           0       0.92      0.92      0.92       626\n",
      "           1       0.92      0.92      0.92       607\n",
      "\n",
      "    accuracy                           0.92      1233\n",
      "   macro avg       0.92      0.92      0.92      1233\n",
      "weighted avg       0.92      0.92      0.92      1233\n",
      "\n"
     ]
    }
   ],
   "source": [
    "print(classification_report(y_test_priv,model.predict(X_test_priv)))"
   ]
  },
  {
   "cell_type": "code",
   "execution_count": 16,
   "metadata": {},
   "outputs": [],
   "source": [
    "import pickle \n",
    "import joblib\n",
    "import numpy as np\n",
    "import base64\n",
    "import cv2\n",
    "import pywt\n",
    "import joblib\n",
    "import matplotlib.pyplot as plt\n",
    "import os\n",
    "import pandas as pd"
   ]
  },
  {
   "cell_type": "code",
   "execution_count": 17,
   "metadata": {},
   "outputs": [],
   "source": [
    "\n",
    "global __model\n",
    "global __class_number_to_name\n",
    "with open('./ML logs/saved_model.pkl', 'rb') as f:\n",
    "     __model = joblib.load(f)"
   ]
  },
  {
   "cell_type": "code",
   "execution_count": 18,
   "metadata": {},
   "outputs": [
    {
     "name": "stdout",
     "output_type": "stream",
     "text": [
      "              precision    recall  f1-score   support\n",
      "\n",
      "           0       0.83      0.78      0.81       626\n",
      "           1       0.79      0.84      0.81       607\n",
      "\n",
      "    accuracy                           0.81      1233\n",
      "   macro avg       0.81      0.81      0.81      1233\n",
      "weighted avg       0.81      0.81      0.81      1233\n",
      "\n"
     ]
    }
   ],
   "source": [
    "print(classification_report(y_test_priv,__model.predict(X_test_priv)))"
   ]
  },
  {
   "cell_type": "code",
   "execution_count": 20,
   "metadata": {},
   "outputs": [
    {
     "data": {
      "text/plain": [
       "['./ML logs/saved_model_new.pkl']"
      ]
     },
     "execution_count": 20,
     "metadata": {},
     "output_type": "execute_result"
    }
   ],
   "source": [
    "import joblib\n",
    "joblib.dump(model, './ML logs/saved_model_new.pkl')"
   ]
  },
  {
   "cell_type": "markdown",
   "metadata": {},
   "source": [
    "**File renaming**"
   ]
  },
  {
   "cell_type": "code",
   "execution_count": 20,
   "metadata": {},
   "outputs": [],
   "source": [
    "import os\n",
    "import cv2\n",
    "import matplotlib.pyplot as plt\n",
    "\n",
    "pth = '../Data/age_recognition/UTKFace'\n",
    "img_names = os.listdir(pth)\n",
    "\n",
    "for img_name in img_names:\n",
    "    age = int(img_name.split('_')[0])\n",
    "    img = cv2.imread(pth+'/'+img_name)\n",
    "\n",
    "    if (age>=6) and (age<=20):\n",
    "        cv2.imwrite('../Data/age_recognition/Train/young/'+img_name, img)\n",
    "    elif (age>=25) and (age<=30):\n",
    "        cv2.imwrite('../Data/age_recognition/Train/middle/'+img_name, img)\n",
    "    elif (age>=42) and (age<=48):\n",
    "        cv2.imwrite('../Data/age_recognition/Train/elder/'+img_name, img)\n",
    "    elif (age>=60) and (age<=98):\n",
    "        cv2.imwrite('../Data/age_recognition/Train/old/'+img_name, img)"
   ]
  },
  {
   "cell_type": "code",
   "execution_count": 23,
   "metadata": {},
   "outputs": [],
   "source": [
    "import os\n",
    "\n",
    "path = '../Data/age_recognition/'\n",
    "sets = ['Train/','Test/']\n",
    "folders = ['young', 'middle', 'elder', 'old']\n",
    "\n",
    "for sett in sets:\n",
    "    for folder in folders:\n",
    "        for file_name in os.listdir(path+sett+folder):\n",
    "            name = file_name.split('.')\n",
    "            os.rename(path+sett+folder+'/'+file_name,path+sett+folder+'/'+name[0]+'.'+name[-1]) \n",
    "        "
   ]
  },
  {
   "cell_type": "code",
   "execution_count": null,
   "metadata": {},
   "outputs": [],
   "source": []
  }
 ],
 "metadata": {
  "kernelspec": {
   "display_name": "Python 3",
   "language": "python",
   "name": "python3"
  },
  "language_info": {
   "codemirror_mode": {
    "name": "ipython",
    "version": 3
   },
   "file_extension": ".py",
   "mimetype": "text/x-python",
   "name": "python",
   "nbconvert_exporter": "python",
   "pygments_lexer": "ipython3",
   "version": "3.8.5"
  }
 },
 "nbformat": 4,
 "nbformat_minor": 4
}
