{
 "cells": [
  {
   "cell_type": "markdown",
   "metadata": {},
   "source": [
    "# Machine Learning for Gender Prediction"
   ]
  },
  {
   "cell_type": "code",
   "execution_count": 1,
   "metadata": {},
   "outputs": [],
   "source": [
    "import numpy as np\n",
    "import pywt\n",
    "import cv2    \n",
    "import os\n",
    "import matplotlib.pyplot as plt\n",
    "from collections import Counter\n",
    "import seaborn as sns\n",
    "\n",
    "def w2d(img, mode='haar', level=1):\n",
    "    imArray = img\n",
    "    imArray = cv2.cvtColor( imArray,cv2.COLOR_RGB2GRAY )\n",
    "    imArray =  np.float32(imArray)   \n",
    "    imArray /= 255.0;\n",
    "    coeffs=pywt.wavedec2(imArray, mode, level=level)\n",
    "    coeffs_H=list(coeffs)  \n",
    "    coeffs_H[0] *= 0;  \n",
    "    imArray_H=pywt.waverec2(coeffs_H, mode);\n",
    "    imArray_H *= 255.0;\n",
    "    imArray_H =  np.uint8(imArray_H)\n",
    "    return imArray_H"
   ]
  },
  {
   "cell_type": "code",
   "execution_count": 2,
   "metadata": {},
   "outputs": [],
   "source": [
    "train_img_npy = np.load('../Data/train_images.npy')\n",
    "train_lbl_npy = np.load('../Data/train_labels.npy')\n",
    "val_img_npy = np.load('../Data/val_images.npy')\n",
    "val_lbl_npy = np.load('../Data/val_labels.npy')"
   ]
  },
  {
   "cell_type": "markdown",
   "metadata": {},
   "source": [
    "## Data processing"
   ]
  },
  {
   "cell_type": "markdown",
   "metadata": {},
   "source": [
    "**Train data processing**"
   ]
  },
  {
   "cell_type": "code",
   "execution_count": 3,
   "metadata": {},
   "outputs": [],
   "source": [
    "subdir = ['Male','Female']\n",
    "path = '../Data/Gender detection/Train/'"
   ]
  },
  {
   "cell_type": "code",
   "execution_count": 4,
   "metadata": {},
   "outputs": [],
   "source": [
    "X_train, y_train = [], []\n",
    "for gender in subdir:\n",
    "    for img_name in os.listdir(path+gender):\n",
    "        img = cv2.imread(path+gender+'/'+img_name)\n",
    "        scalled_raw_img = cv2.resize(img, (32, 32))\n",
    "        img_har = w2d(img,'db1',5)\n",
    "        scalled_img_har = cv2.resize(img_har, (32, 32))\n",
    "        combined_img = np.vstack((scalled_raw_img.reshape(32*32*3,1),scalled_img_har.reshape(32*32,1)))\n",
    "        X_train.append(combined_img)\n",
    "        if gender=='Male':\n",
    "            y_train.append(1)\n",
    "        else:\n",
    "            y_train.append(0)"
   ]
  },
  {
   "cell_type": "code",
   "execution_count": 5,
   "metadata": {},
   "outputs": [
    {
     "data": {
      "text/plain": [
       "(5673, 5025)"
      ]
     },
     "execution_count": 5,
     "metadata": {},
     "output_type": "execute_result"
    }
   ],
   "source": [
    "len(os.listdir('../Data/Gender detection/Train/Male')),len(os.listdir('../Data/Gender detection/Train/Female'))"
   ]
  },
  {
   "cell_type": "code",
   "execution_count": 6,
   "metadata": {},
   "outputs": [
    {
     "data": {
      "text/plain": [
       "10698"
      ]
     },
     "execution_count": 6,
     "metadata": {},
     "output_type": "execute_result"
    }
   ],
   "source": [
    "len(X_train)"
   ]
  },
  {
   "cell_type": "code",
   "execution_count": 7,
   "metadata": {},
   "outputs": [
    {
     "data": {
      "text/plain": [
       "10698"
      ]
     },
     "execution_count": 7,
     "metadata": {},
     "output_type": "execute_result"
    }
   ],
   "source": [
    "len(y_train)"
   ]
  },
  {
   "cell_type": "code",
   "execution_count": 8,
   "metadata": {},
   "outputs": [
    {
     "data": {
      "text/plain": [
       "Counter({1: 5673, 0: 5025})"
      ]
     },
     "execution_count": 8,
     "metadata": {},
     "output_type": "execute_result"
    }
   ],
   "source": [
    "Counter(y_train)"
   ]
  },
  {
   "cell_type": "code",
   "execution_count": 9,
   "metadata": {},
   "outputs": [
    {
     "data": {
      "image/png": "[encoded data removed]",
      "text/plain": [
       "<Figure size 576x432 with 1 Axes>"
      ]
     },
     "metadata": {
      "needs_background": "light"
     },
     "output_type": "display_data"
    }
   ],
   "source": [
    "fig, ax = plt.subplots(figsize=(8,6)) \n",
    "chart = sns.barplot(x=['Male','Female'], y=[Counter(y_train)[1],Counter(y_train)[0]],palette=\"YlGnBu\")\n",
    "_=chart.set_xticklabels(chart.get_xticklabels(), rotation=45)\n",
    "plt.title('Distribution of Train Dataset')\n",
    "plt.savefig('Train dataset.png',dpi=100)"
   ]
  },
  {
   "cell_type": "markdown",
   "metadata": {},
   "source": [
    "**Test data processing**"
   ]
  },
  {
   "cell_type": "code",
   "execution_count": 10,
   "metadata": {},
   "outputs": [],
   "source": [
    "subdir = ['Male','Female']\n",
    "path = '../Data/Gender detection/Test/'"
   ]
  },
  {
   "cell_type": "code",
   "execution_count": 11,
   "metadata": {},
   "outputs": [],
   "source": [
    "X_test, y_test = [], []\n",
    "for gender in subdir:\n",
    "    for img_name in os.listdir(path+gender):\n",
    "        img = cv2.imread(path+gender+'/'+img_name)\n",
    "        scalled_raw_img = cv2.resize(img, (32, 32))\n",
    "        img_har = w2d(img,'db1',5)\n",
    "        scalled_img_har = cv2.resize(img_har, (32, 32))\n",
    "        combined_img = np.vstack((scalled_raw_img.reshape(32*32*3,1),scalled_img_har.reshape(32*32,1)))\n",
    "        X_test.append(combined_img)\n",
    "#         y_test.append(int((val_lbl_npy[int(img_name.split('.')[0])]).split('-')[0]))\n",
    "        if gender=='Male':\n",
    "            y_test.append(1)\n",
    "        else:\n",
    "            y_test.append(0)"
   ]
  },
  {
   "cell_type": "code",
   "execution_count": 12,
   "metadata": {},
   "outputs": [
    {
     "data": {
      "text/plain": [
       "Counter({1: 777, 0: 502})"
      ]
     },
     "execution_count": 12,
     "metadata": {},
     "output_type": "execute_result"
    }
   ],
   "source": [
    "Counter(y_test)"
   ]
  },
  {
   "cell_type": "code",
   "execution_count": 13,
   "metadata": {},
   "outputs": [
    {
     "data": {
      "image/png": "[encoded data removed]",
      "text/plain": [
       "<Figure size 576x432 with 1 Axes>"
      ]
     },
     "metadata": {
      "needs_background": "light"
     },
     "output_type": "display_data"
    }
   ],
   "source": [
    "fig, ax = plt.subplots(figsize=(8,6)) \n",
    "chart = sns.barplot(x=['Male','Female'], y=[Counter(y_test)[1],Counter(y_test)[0]],palette=\"YlGnBu\")\n",
    "_=chart.set_xticklabels(chart.get_xticklabels(), rotation=45)\n",
    "plt.title('Distribution of Test Dataset')\n",
    "plt.savefig('Test dataset.png',dpi=100)"
   ]
  },
  {
   "cell_type": "markdown",
   "metadata": {},
   "source": [
    "**Model Data Processing**"
   ]
  },
  {
   "cell_type": "code",
   "execution_count": 14,
   "metadata": {},
   "outputs": [],
   "source": [
    "X_train = np.array(X_train).reshape(len(X_train),4096).astype(float)\n",
    "X_test = np.array(X_test).reshape(len(X_test),4096).astype(float)\n",
    "\n",
    "y_train = np.array(y_train).astype(int)\n",
    "y_test = np.array(y_test).astype(int)"
   ]
  },
  {
   "cell_type": "code",
   "execution_count": 15,
   "metadata": {},
   "outputs": [
    {
     "data": {
      "text/plain": [
       "((10698, 4096), (1279, 4096), (10698,), (1279,))"
      ]
     },
     "execution_count": 15,
     "metadata": {},
     "output_type": "execute_result"
    }
   ],
   "source": [
    "X_train.shape, X_test.shape, y_train.shape, y_test.shape"
   ]
  },
  {
   "cell_type": "markdown",
   "metadata": {},
   "source": [
    "**Modeling**"
   ]
  },
  {
   "cell_type": "code",
   "execution_count": 16,
   "metadata": {},
   "outputs": [],
   "source": [
    "from sklearn.naive_bayes import GaussianNB\n",
    "\n",
    "from sklearn.ensemble import RandomForestClassifier\n",
    "from sklearn.svm import SVC\n",
    "\n",
    "from sklearn.linear_model import LogisticRegression\n",
    "from sklearn.model_selection import cross_val_score\n",
    "\n",
    "from sklearn.model_selection import GridSearchCV"
   ]
  },
  {
   "cell_type": "code",
   "execution_count": 17,
   "metadata": {},
   "outputs": [],
   "source": [
    "scores=[]\n",
    "best_estimators = {}\n",
    "\n",
    "\n",
    "model_params = {  \n",
    "    \n",
    "     'LOGISTIC_REGRESSION': {\n",
    "        'model': LogisticRegression(),\n",
    "        'params': {\n",
    "            'C': [11.0],\n",
    "            'solver' : ['lbfgs'],\n",
    "            'max_iter':[6000]\n",
    "        }\n",
    "    },\n",
    "   \n",
    "\n",
    "        \n",
    "    'SVM': {\n",
    "        'model': SVC(),\n",
    "        'params': {\n",
    "             'C': [7.0]\n",
    "        }\n",
    "    },\n",
    "       \n",
    "    'RANDOM_FOREST':{\n",
    "        'model' : RandomForestClassifier(),\n",
    "        'params': {\n",
    "            'n_estimators':[230],\n",
    "            'random_state' : [11]\n",
    "\n",
    "        }\n",
    "    }\n",
    "}"
   ]
  },
  {
   "cell_type": "code",
   "execution_count": 21,
   "metadata": {},
   "outputs": [
    {
     "name": "stdout",
     "output_type": "stream",
     "text": [
      "LogisticRegression() {'C': [11.0], 'solver': ['lbfgs'], 'max_iter': [6000]}\n",
      "18.8526389837265 minutes\n",
      "SVC() {'C': [7.0]}\n",
      "22.891320168972015 minutes\n",
      "RandomForestClassifier() {'n_estimators': [230], 'random_state': [11]}\n",
      "7.065857938925425 minutes\n"
     ]
    }
   ],
   "source": [
    "import time\n",
    "\n",
    "\n",
    "for model_name, mp in model_params.items():\n",
    "    clf = GridSearchCV(mp['model'], mp['params'], cv=5, return_train_score=False)\n",
    "    print(mp['model'], mp['params'])\n",
    "    start_time = time.time()\n",
    "    \n",
    "    clf.fit(X_train, y_train)    \n",
    "    \n",
    "\n",
    "    scores.append({\n",
    "        'model': model_name,\n",
    "        'best_score': clf.best_score_,\n",
    "        'best_params': str(clf.best_params_)\n",
    "    })\n",
    "    best_estimators[model_name] = clf.best_estimator_\n",
    "    print('{} minutes'.format((time.time() - start_time)/60))"
   ]
  },
  {
   "cell_type": "code",
   "execution_count": 22,
   "metadata": {},
   "outputs": [
    {
     "data": {
      "text/html": [
       "<div>\n",
       "<style scoped>\n",
       "    .dataframe tbody tr th:only-of-type {\n",
       "        vertical-align: middle;\n",
       "    }\n",
       "\n",
       "    .dataframe tbody tr th {\n",
       "        vertical-align: top;\n",
       "    }\n",
       "\n",
       "    .dataframe thead th {\n",
       "        text-align: right;\n",
       "    }\n",
       "</style>\n",
       "<table border=\"1\" class=\"dataframe\">\n",
       "  <thead>\n",
       "    <tr style=\"text-align: right;\">\n",
       "      <th></th>\n",
       "      <th>model</th>\n",
       "      <th>best_score</th>\n",
       "      <th>best_params</th>\n",
       "    </tr>\n",
       "  </thead>\n",
       "  <tbody>\n",
       "    <tr>\n",
       "      <th>4</th>\n",
       "      <td>SVM</td>\n",
       "      <td>0.808190</td>\n",
       "      <td>{'C': 7.0}</td>\n",
       "    </tr>\n",
       "    <tr>\n",
       "      <th>1</th>\n",
       "      <td>SVM</td>\n",
       "      <td>0.803795</td>\n",
       "      <td>{'C': 7.0}</td>\n",
       "    </tr>\n",
       "    <tr>\n",
       "      <th>5</th>\n",
       "      <td>RANDOM_FOREST</td>\n",
       "      <td>0.771546</td>\n",
       "      <td>{'n_estimators': 230, 'random_state': 11}</td>\n",
       "    </tr>\n",
       "    <tr>\n",
       "      <th>2</th>\n",
       "      <td>RANDOM_FOREST</td>\n",
       "      <td>0.769957</td>\n",
       "      <td>{'n_estimators': 230, 'random_state': 11}</td>\n",
       "    </tr>\n",
       "    <tr>\n",
       "      <th>0</th>\n",
       "      <td>LOGISTIC_REGRESSION</td>\n",
       "      <td>0.732099</td>\n",
       "      <td>{'C': 11.0, 'max_iter': 6000, 'solver': 'lbfgs'}</td>\n",
       "    </tr>\n",
       "    <tr>\n",
       "      <th>3</th>\n",
       "      <td>LOGISTIC_REGRESSION</td>\n",
       "      <td>0.730697</td>\n",
       "      <td>{'C': 11.0, 'max_iter': 6000, 'solver': 'lbfgs'}</td>\n",
       "    </tr>\n",
       "  </tbody>\n",
       "</table>\n",
       "</div>"
      ],
      "text/plain": [
       "                 model  best_score  \\\n",
       "4                  SVM    0.808190   \n",
       "1                  SVM    0.803795   \n",
       "5        RANDOM_FOREST    0.771546   \n",
       "2        RANDOM_FOREST    0.769957   \n",
       "0  LOGISTIC_REGRESSION    0.732099   \n",
       "3  LOGISTIC_REGRESSION    0.730697   \n",
       "\n",
       "                                        best_params  \n",
       "4                                        {'C': 7.0}  \n",
       "1                                        {'C': 7.0}  \n",
       "5         {'n_estimators': 230, 'random_state': 11}  \n",
       "2         {'n_estimators': 230, 'random_state': 11}  \n",
       "0  {'C': 11.0, 'max_iter': 6000, 'solver': 'lbfgs'}  \n",
       "3  {'C': 11.0, 'max_iter': 6000, 'solver': 'lbfgs'}  "
      ]
     },
     "execution_count": 22,
     "metadata": {},
     "output_type": "execute_result"
    }
   ],
   "source": [
    "import pandas as pd    \n",
    "df = pd.DataFrame(scores,columns=['model','best_score','best_params'])\n",
    "df = df.sort_values(by='best_score',ascending=False)\n",
    "df"
   ]
  },
  {
   "cell_type": "code",
   "execution_count": 23,
   "metadata": {},
   "outputs": [],
   "source": [
    "df.to_csv('result7.csv',index=False)"
   ]
  },
  {
   "cell_type": "code",
   "execution_count": 24,
   "metadata": {},
   "outputs": [
    {
     "data": {
      "text/plain": [
       "0.8264268960125097"
      ]
     },
     "execution_count": 24,
     "metadata": {},
     "output_type": "execute_result"
    }
   ],
   "source": [
    "best_estimators['SVM'].score(X_test,y_test)"
   ]
  },
  {
   "cell_type": "code",
   "execution_count": 25,
   "metadata": {},
   "outputs": [
    {
     "data": {
      "text/plain": [
       "0.7302580140734949"
      ]
     },
     "execution_count": 25,
     "metadata": {},
     "output_type": "execute_result"
    }
   ],
   "source": [
    "best_estimators['LOGISTIC_REGRESSION'].score(X_test,y_test)"
   ]
  },
  {
   "cell_type": "code",
   "execution_count": 26,
   "metadata": {},
   "outputs": [
    {
     "data": {
      "text/plain": [
       "0.8037529319781079"
      ]
     },
     "execution_count": 26,
     "metadata": {},
     "output_type": "execute_result"
    }
   ],
   "source": [
    "best_estimators['RANDOM_FOREST'].score(X_test,y_test)"
   ]
  },
  {
   "cell_type": "code",
   "execution_count": 30,
   "metadata": {},
   "outputs": [
    {
     "data": {
      "text/plain": [
       "(array([0.82421875, 0.7265625 , 0.765625  , 0.76171875, 0.78431373]),\n",
       " 0.7724877450980392)"
      ]
     },
     "execution_count": 30,
     "metadata": {},
     "output_type": "execute_result"
    }
   ],
   "source": [
    "cross_val_score(best_estimators['SVM'],X_test,y_test,cv=5), cross_val_score(best_estimators['SVM'],X_test,y_test,cv=5).mean()"
   ]
  },
  {
   "cell_type": "code",
   "execution_count": 31,
   "metadata": {},
   "outputs": [
    {
     "data": {
      "text/plain": [
       "(array([0.82242991, 0.80560748, 0.77990654, 0.79897148, 0.8340346 ]),\n",
       " 0.8081900005680005)"
      ]
     },
     "execution_count": 31,
     "metadata": {},
     "output_type": "execute_result"
    }
   ],
   "source": [
    "cross_val_score(best_estimators['SVM'],X_train,y_train,cv=5), cross_val_score(best_estimators['SVM'],X_train,y_train,cv=5).mean()"
   ]
  },
  {
   "cell_type": "code",
   "execution_count": 32,
   "metadata": {},
   "outputs": [
    {
     "data": {
      "text/plain": [
       "(array([0.765625  , 0.75      , 0.7421875 , 0.703125  , 0.76470588]),\n",
       " 0.7451286764705882)"
      ]
     },
     "execution_count": 32,
     "metadata": {},
     "output_type": "execute_result"
    }
   ],
   "source": [
    "cross_val_score(best_estimators['RANDOM_FOREST'],X_test,y_test,cv=5), cross_val_score(best_estimators['RANDOM_FOREST'],X_test,y_test,cv=5).mean()"
   ]
  },
  {
   "cell_type": "code",
   "execution_count": 33,
   "metadata": {},
   "outputs": [
    {
     "data": {
      "text/plain": [
       "(array([0.7911215 , 0.76495327, 0.75420561, 0.76998597, 0.77746611]),\n",
       " 0.7715464908486366)"
      ]
     },
     "execution_count": 33,
     "metadata": {},
     "output_type": "execute_result"
    }
   ],
   "source": [
    "cross_val_score(best_estimators['RANDOM_FOREST'],X_train,y_train,cv=5), cross_val_score(best_estimators['RANDOM_FOREST'],X_train,y_train,cv=5).mean()"
   ]
  },
  {
   "cell_type": "code",
   "execution_count": 34,
   "metadata": {},
   "outputs": [
    {
     "data": {
      "text/plain": [
       "(array([0.69140625, 0.68359375, 0.7265625 , 0.73046875, 0.73333333]),\n",
       " 0.7130729166666667)"
      ]
     },
     "execution_count": 34,
     "metadata": {},
     "output_type": "execute_result"
    }
   ],
   "source": [
    "cross_val_score(best_estimators['LOGISTIC_REGRESSION'],X_test,y_test,cv=5), cross_val_score(best_estimators['LOGISTIC_REGRESSION'],X_test,y_test,cv=5).mean()"
   ]
  },
  {
   "cell_type": "code",
   "execution_count": 38,
   "metadata": {},
   "outputs": [
    {
     "data": {
      "image/png": "[encoded data removed]",
      "text/plain": [
       "<Figure size 720x360 with 1 Axes>"
      ]
     },
     "metadata": {},
     "output_type": "display_data"
    }
   ],
   "source": [
    "import sklearn.metrics as metrics\n",
    "\n",
    "lr_false_positive_rate,lr_true_positive_rate,lr_threshold = metrics.roc_curve(y_test,best_estimators['LOGISTIC_REGRESSION'].predict(X_test))\n",
    "rf_false_positive_rate,rf_true_positive_rate,rf_threshold = metrics.roc_curve(y_test,best_estimators['RANDOM_FOREST'].predict(X_test))           \n",
    "svc_false_positive_rate,svc_true_positive_rate,svc_threshold = metrics.roc_curve(y_test,best_estimators['SVM'].predict(X_test))\n",
    "\n",
    "\n",
    "sns.set_style('whitegrid')\n",
    "plt.figure(figsize=(10,5))\n",
    "plt.title('Reciver Operating Characterstic Curve')\n",
    "\n",
    "plt.plot(rf_false_positive_rate,rf_true_positive_rate,label='Random Forest')\n",
    "plt.plot(lr_false_positive_rate,lr_true_positive_rate,label='Logistic Regression')\n",
    "plt.plot(svc_false_positive_rate,svc_true_positive_rate,label='Support Vector Classifier')\n",
    "\n",
    "\n",
    "plt.plot([0,1],ls='--')\n",
    "plt.plot([0,0],[1,0],c='.5')\n",
    "plt.plot([1,1],c='.5')\n",
    "plt.ylabel('True positive rate')\n",
    "plt.xlabel('False positive rate')\n",
    "plt.legend()\n",
    "plt.show()"
   ]
  },
  {
   "cell_type": "code",
   "execution_count": 36,
   "metadata": {},
   "outputs": [
    {
     "name": "stdout",
     "output_type": "stream",
     "text": [
      "              precision    recall  f1-score   support\n",
      "\n",
      "           0       0.78      0.77      0.78       502\n",
      "           1       0.86      0.86      0.86       777\n",
      "\n",
      "    accuracy                           0.83      1279\n",
      "   macro avg       0.82      0.82      0.82      1279\n",
      "weighted avg       0.83      0.83      0.83      1279\n",
      "\n"
     ]
    }
   ],
   "source": [
    "from sklearn.metrics import classification_report\n",
    "print(classification_report(y_test,best_estimators['SVM'].predict(X_test)))"
   ]
  },
  {
   "cell_type": "code",
   "execution_count": 50,
   "metadata": {},
   "outputs": [
    {
     "data": {
      "image/png": "[encoded data removed]",
      "text/plain": [
       "<Figure size 576x576 with 2 Axes>"
      ]
     },
     "metadata": {},
     "output_type": "display_data"
    }
   ],
   "source": [
    "from sklearn.metrics import confusion_matrix\n",
    "import seaborn as sns \n",
    "\n",
    "cm = confusion_matrix(y_test, best_estimators['SVM'].predict(X_test))\n",
    "\n",
    "fig, ax = plt.subplots(figsize=(8,8))\n",
    "g = sns.heatmap(cm,annot=True,ax=ax, fmt='0.1f',cmap='Accent_r')\n",
    "g.set_yticklabels(g.get_yticklabels(), rotation = 0, fontsize = 12)\n",
    "g.set_xticklabels(g.get_xticklabels(), rotation = 90, fontsize = 12)\n",
    "ax.set_xlabel('Predicted labels');ax.set_ylabel('True labels');"
   ]
  },
  {
   "cell_type": "code",
   "execution_count": 51,
   "metadata": {},
   "outputs": [
    {
     "name": "stdout",
     "output_type": "stream",
     "text": [
      "              precision    recall  f1-score   support\n",
      "\n",
      "           0       0.80      0.67      0.73       502\n",
      "           1       0.81      0.89      0.85       777\n",
      "\n",
      "    accuracy                           0.80      1279\n",
      "   macro avg       0.80      0.78      0.79      1279\n",
      "weighted avg       0.80      0.80      0.80      1279\n",
      "\n"
     ]
    },
    {
     "data": {
      "image/png": "[encoded data removed]",
      "text/plain": [
       "<Figure size 576x576 with 2 Axes>"
      ]
     },
     "metadata": {},
     "output_type": "display_data"
    }
   ],
   "source": [
    "print(classification_report(y_test,best_estimators['RANDOM_FOREST'].predict(X_test)))\n",
    "\n",
    "cm = confusion_matrix(y_test, best_estimators['RANDOM_FOREST'].predict(X_test))\n",
    "\n",
    "fig, ax = plt.subplots(figsize=(8,8))\n",
    "g = sns.heatmap(cm,annot=True,ax=ax, fmt='0.1f',cmap='Accent_r')\n",
    "g.set_yticklabels(g.get_yticklabels(), rotation = 0, fontsize = 12)\n",
    "g.set_xticklabels(g.get_xticklabels(), rotation = 90, fontsize = 12)\n",
    "ax.set_xlabel('Predicted labels');ax.set_ylabel('True labels');"
   ]
  },
  {
   "cell_type": "code",
   "execution_count": 52,
   "metadata": {},
   "outputs": [
    {
     "name": "stdout",
     "output_type": "stream",
     "text": [
      "              precision    recall  f1-score   support\n",
      "\n",
      "           0       0.64      0.72      0.68       502\n",
      "           1       0.80      0.73      0.77       777\n",
      "\n",
      "    accuracy                           0.73      1279\n",
      "   macro avg       0.72      0.73      0.72      1279\n",
      "weighted avg       0.74      0.73      0.73      1279\n",
      "\n"
     ]
    },
    {
     "data": {
      "image/png": "[encoded data removed]",
      "text/plain": [
       "<Figure size 576x576 with 2 Axes>"
      ]
     },
     "metadata": {},
     "output_type": "display_data"
    }
   ],
   "source": [
    "print(classification_report(y_test,best_estimators['LOGISTIC_REGRESSION'].predict(X_test)))\n",
    "\n",
    "cm = confusion_matrix(y_test, best_estimators['LOGISTIC_REGRESSION'].predict(X_test))\n",
    "\n",
    "fig, ax = plt.subplots(figsize=(8,8))\n",
    "g = sns.heatmap(cm,annot=True,ax=ax, fmt='0.1f',cmap='Accent_r')\n",
    "g.set_yticklabels(g.get_yticklabels(), rotation = 0, fontsize = 12)\n",
    "g.set_xticklabels(g.get_xticklabels(), rotation = 90, fontsize = 12)\n",
    "ax.set_xlabel('Predicted labels');ax.set_ylabel('True labels');"
   ]
  },
  {
   "cell_type": "code",
   "execution_count": 54,
   "metadata": {},
   "outputs": [
    {
     "data": {
      "text/plain": [
       "['./ML logs/saved_model.pkl']"
      ]
     },
     "execution_count": 54,
     "metadata": {},
     "output_type": "execute_result"
    }
   ],
   "source": [
    "import joblib\n",
    "joblib.dump(best_estimators['SVM'], './ML logs/saved_model.pkl')"
   ]
  },
  {
   "cell_type": "markdown",
   "metadata": {},
   "source": [
    "# Deep learning to detect age"
   ]
  },
  {
   "cell_type": "code",
   "execution_count": 10,
   "metadata": {},
   "outputs": [],
   "source": [
    "import os\n",
    "import cv2\n",
    "import matplotlib.pyplot as plt\n",
    "\n",
    "pth = '../Data/age_recognition/UTKFace'\n",
    "img_names = os.listdir(pth)\n",
    "\n",
    "for img_name in img_names:\n",
    "    age = int(img_name.split('_')[0])\n",
    "    img = cv2.imread(pth+'/'+img_name)\n",
    "\n",
    "    if (age>=6) and (age<=20):\n",
    "        cv2.imwrite('../Data/age_recognition/Train/6-20/'+img_name, img)\n",
    "    elif (age>=25) and (age<=30):\n",
    "        cv2.imwrite('../Data/age_recognition/Train/25-30/'+img_name, img)\n",
    "    elif (age>=42) and (age<=48):\n",
    "        cv2.imwrite('../Data/age_recognition/Train/42-48/'+img_name, img)\n",
    "    elif (age>=60) and (age<=98):\n",
    "        cv2.imwrite('../Data/age_recognition/Train/60-98/'+img_name, img)"
   ]
  },
  {
   "cell_type": "code",
   "execution_count": 1,
   "metadata": {},
   "outputs": [
    {
     "name": "stdout",
     "output_type": "stream",
     "text": [
      "tf version 2.4.1\n",
      "keras version 2.4.0\n",
      "gpu is  available\n"
     ]
    }
   ],
   "source": [
    "# importing libraries \n",
    "\n",
    "import keras\n",
    "from keras.preprocessing.image import ImageDataGenerator \n",
    "from keras.models import Sequential, save_model, load_model\n",
    "from keras.layers import Conv2D, MaxPooling2D \n",
    "from keras.layers import Activation, Dropout, Flatten, Dense \n",
    "import numpy as np\n",
    "from keras.callbacks import TensorBoard\n",
    "import time\n",
    "import matplotlib.pyplot as plt\n",
    "import datetime\n",
    "import cv2\n",
    "import os\n",
    "import tensorflow as tf\n",
    "import tensorflow.keras\n",
    "import cv2\n",
    "from keras.applications import ResNet50\n",
    "from keras.models import Model\n",
    "\n",
    "print('tf version', tf.__version__)\n",
    "print('keras version', tf.keras.__version__)\n",
    "print('gpu is ','available' if tf.config.list_physical_devices('GPU') else 'not available')"
   ]
  },
  {
   "cell_type": "code",
   "execution_count": 2,
   "metadata": {},
   "outputs": [],
   "source": [
    "img_width, img_height = 64,64\n",
    "NAME = 'Model_CNN_{}'.format(datetime.datetime.now().strftime(\"%d.%m.%Y-%H_%M\"))\n",
    "logdir = os.path.join(\"DL logs/logs\", NAME)\n",
    "t_board = TensorBoard(log_dir = logdir)\n",
    "train_data_dir = '../Data/Age recognition/Train/'\n",
    "validation_data_dir = '../Data/Age recognition/Test/'\n",
    "eval_data_dir = '../Data/Age recognition/Test - Copy/'\n",
    "\n",
    "\n",
    "nb_train_samples = 11482\n",
    "nb_validation_samples = 1320\n",
    "nb_eval_samples = 1332\n",
    "epochs = 20\n",
    "batch_size = 64\n",
    "num_of_class = 4"
   ]
  },
  {
   "cell_type": "code",
   "execution_count": 3,
   "metadata": {},
   "outputs": [
    {
     "name": "stdout",
     "output_type": "stream",
     "text": [
      "Found 11482 images belonging to 4 classes.\n",
      "Found 1320 images belonging to 4 classes.\n",
      "Found 1332 images belonging to 4 classes.\n"
     ]
    }
   ],
   "source": [
    "train_datagen = ImageDataGenerator( #Image Augmentation # Research on other parameters\n",
    "                rescale = 1. / 255, \n",
    "                shear_range = 0.15, \n",
    "                zoom_range = 0.20,\n",
    "                rotation_range=10) \n",
    "  \n",
    "test_datagen = ImageDataGenerator(rescale = 1. / 255) #Image Augmentation\n",
    "\n",
    "\n",
    "  \n",
    "train_generator = train_datagen.flow_from_directory(train_data_dir, \n",
    "                              target_size =(img_width, img_height), \n",
    "                     batch_size = batch_size, class_mode ='categorical',color_mode='rgb',\n",
    "                                                shuffle=False)\n",
    "  \n",
    "validation_generator = test_datagen.flow_from_directory( \n",
    "                                    validation_data_dir, \n",
    "                   target_size =(img_width, img_height), \n",
    "          batch_size = batch_size, class_mode ='categorical',color_mode='rgb',\n",
    "                                                shuffle=False) \n",
    "\n",
    "eval_generator = test_datagen.flow_from_directory( \n",
    "                                    eval_data_dir, \n",
    "                   target_size =(img_width, img_height), \n",
    "          batch_size = batch_size, class_mode ='categorical',color_mode='rgb',\n",
    "                                                shuffle=False)\n"
   ]
  },
  {
   "cell_type": "code",
   "execution_count": 5,
   "metadata": {},
   "outputs": [],
   "source": [
    "\n",
    "    \n",
    "input_shape = (img_width, img_height, 3) \n",
    "\n",
    "model3 = Sequential()\n",
    "\n",
    "model3.add(Conv2D(32, (3,3), input_shape=input_shape, activation='relu',data_format='channels_last'))\n",
    "model3.add(MaxPooling2D((2,2), strides=(1,1), padding='same'),)\n",
    "\n",
    "model3.add(Conv2D(64, (3,3), activation='relu'),)\n",
    "model3.add(MaxPooling2D((2,2), strides=(1,1), padding='same'),)\n",
    "\n",
    "model3.add(Conv2D(128, (3,3), activation='relu'),)\n",
    "model3.add(MaxPooling2D((2,2), strides=(1,1), padding='same'),)\n",
    "\n",
    "\n",
    "model3.add(Flatten())\n",
    "\n",
    "model3.add(Dense(128, activation='relu'))\n",
    "model3.add(Dense(64, activation='relu'))\n",
    "\n",
    "model3.add(Dropout(0.5))\n",
    "model3.add(Dense(num_of_class, activation='softmax'))"
   ]
  },
  {
   "cell_type": "code",
   "execution_count": 6,
   "metadata": {},
   "outputs": [
    {
     "name": "stdout",
     "output_type": "stream",
     "text": [
      "Model: \"sequential\"\n",
      "_________________________________________________________________\n",
      "Layer (type)                 Output Shape              Param #   \n",
      "=================================================================\n",
      "conv2d (Conv2D)              (None, 62, 62, 32)        896       \n",
      "_________________________________________________________________\n",
      "max_pooling2d (MaxPooling2D) (None, 62, 62, 32)        0         \n",
      "_________________________________________________________________\n",
      "conv2d_1 (Conv2D)            (None, 60, 60, 64)        18496     \n",
      "_________________________________________________________________\n",
      "max_pooling2d_1 (MaxPooling2 (None, 60, 60, 64)        0         \n",
      "_________________________________________________________________\n",
      "conv2d_2 (Conv2D)            (None, 58, 58, 128)       73856     \n",
      "_________________________________________________________________\n",
      "max_pooling2d_2 (MaxPooling2 (None, 58, 58, 128)       0         \n",
      "_________________________________________________________________\n",
      "flatten (Flatten)            (None, 430592)            0         \n",
      "_________________________________________________________________\n",
      "dense (Dense)                (None, 128)               55115904  \n",
      "_________________________________________________________________\n",
      "dense_1 (Dense)              (None, 64)                8256      \n",
      "_________________________________________________________________\n",
      "dropout (Dropout)            (None, 64)                0         \n",
      "_________________________________________________________________\n",
      "dense_2 (Dense)              (None, 4)                 260       \n",
      "=================================================================\n",
      "Total params: 55,217,668\n",
      "Trainable params: 55,217,668\n",
      "Non-trainable params: 0\n",
      "_________________________________________________________________\n"
     ]
    }
   ],
   "source": [
    "model3.summary()"
   ]
  },
  {
   "cell_type": "code",
   "execution_count": 8,
   "metadata": {},
   "outputs": [],
   "source": [
    "model3.compile(loss ='categorical_crossentropy',\n",
    "                     optimizer ='adam', \n",
    "                   metrics =['accuracy']) "
   ]
  },
  {
   "cell_type": "code",
   "execution_count": 9,
   "metadata": {},
   "outputs": [
    {
     "name": "stderr",
     "output_type": "stream",
     "text": [
      "C:\\Users\\Notebook\\anaconda3\\lib\\site-packages\\tensorflow\\python\\keras\\engine\\training.py:1844: UserWarning: `Model.fit_generator` is deprecated and will be removed in a future version. Please use `Model.fit`, which supports generators.\n",
      "  warnings.warn('`Model.fit_generator` is deprecated and '\n"
     ]
    },
    {
     "name": "stdout",
     "output_type": "stream",
     "text": [
      "Epoch 1/100\n",
      "179/179 [==============================] - 56s 227ms/step - loss: 15.5302 - accuracy: 0.0245 - val_loss: 3.4016 - val_accuracy: 0.0355\n",
      "Epoch 2/100\n",
      "179/179 [==============================] - 19s 202ms/step - loss: 3.4553 - accuracy: 0.0484 - val_loss: 3.2702 - val_accuracy: 0.2188\n",
      "Epoch 3/100\n",
      "179/179 [==============================] - 19s 204ms/step - loss: 3.1706 - accuracy: 0.1531 - val_loss: 1.5929 - val_accuracy: 0.6442\n",
      "Epoch 4/100\n",
      "179/179 [==============================] - 19s 203ms/step - loss: 2.0524 - accuracy: 0.4030 - val_loss: 0.5719 - val_accuracy: 0.8253\n",
      "Epoch 5/100\n",
      "179/179 [==============================] - 19s 202ms/step - loss: 1.2815 - accuracy: 0.6199 - val_loss: 0.1840 - val_accuracy: 0.9545\n",
      "Epoch 6/100\n",
      "179/179 [==============================] - 19s 203ms/step - loss: 0.7183 - accuracy: 0.7810 - val_loss: 0.1605 - val_accuracy: 0.9695\n",
      "Epoch 7/100\n",
      "179/179 [==============================] - 19s 204ms/step - loss: 0.5721 - accuracy: 0.8259 - val_loss: 0.1478 - val_accuracy: 0.9751\n",
      "Epoch 8/100\n",
      "179/179 [==============================] - 19s 203ms/step - loss: 0.4013 - accuracy: 0.8794 - val_loss: 0.1510 - val_accuracy: 0.9688\n",
      "Epoch 9/100\n",
      "179/179 [==============================] - 19s 202ms/step - loss: 0.3582 - accuracy: 0.8843 - val_loss: 0.1393 - val_accuracy: 0.9751\n",
      "Epoch 10/100\n",
      "179/179 [==============================] - 19s 203ms/step - loss: 0.2527 - accuracy: 0.9216 - val_loss: 0.1287 - val_accuracy: 0.9808\n",
      "Epoch 11/100\n",
      "179/179 [==============================] - 19s 202ms/step - loss: 0.2279 - accuracy: 0.9289 - val_loss: 0.2101 - val_accuracy: 0.9751\n",
      "Epoch 12/100\n",
      "179/179 [==============================] - 19s 202ms/step - loss: 0.1532 - accuracy: 0.9549 - val_loss: 0.2292 - val_accuracy: 0.9730\n",
      "Epoch 13/100\n",
      "179/179 [==============================] - 19s 202ms/step - loss: 0.1528 - accuracy: 0.9549 - val_loss: 0.1675 - val_accuracy: 0.9780\n",
      "Epoch 14/100\n",
      "179/179 [==============================] - 19s 203ms/step - loss: 0.1291 - accuracy: 0.9599 - val_loss: 0.1718 - val_accuracy: 0.9801\n",
      "Epoch 15/100\n",
      "179/179 [==============================] - 19s 203ms/step - loss: 0.1012 - accuracy: 0.9694 - val_loss: 0.1099 - val_accuracy: 0.9844\n",
      "Epoch 16/100\n",
      "179/179 [==============================] - 19s 202ms/step - loss: 0.1246 - accuracy: 0.9633 - val_loss: 0.2489 - val_accuracy: 0.9688\n",
      "Epoch 17/100\n",
      "179/179 [==============================] - 19s 203ms/step - loss: 0.0740 - accuracy: 0.9753 - val_loss: 0.2005 - val_accuracy: 0.9787\n",
      "Epoch 18/100\n",
      "179/179 [==============================] - 19s 202ms/step - loss: 0.0801 - accuracy: 0.9750 - val_loss: 0.2001 - val_accuracy: 0.9830\n",
      "Epoch 19/100\n",
      "179/179 [==============================] - 19s 201ms/step - loss: 0.0607 - accuracy: 0.9792 - val_loss: 0.2006 - val_accuracy: 0.9759\n",
      "Epoch 20/100\n",
      "179/179 [==============================] - 19s 204ms/step - loss: 0.0683 - accuracy: 0.9791 - val_loss: 0.1358 - val_accuracy: 0.9851\n",
      "Epoch 21/100\n",
      "179/179 [==============================] - 19s 203ms/step - loss: 0.0536 - accuracy: 0.9836 - val_loss: 0.1527 - val_accuracy: 0.9872\n",
      "Epoch 22/100\n",
      "179/179 [==============================] - 19s 203ms/step - loss: 0.0544 - accuracy: 0.9853 - val_loss: 0.1354 - val_accuracy: 0.9901\n",
      "Epoch 23/100\n",
      "179/179 [==============================] - 19s 203ms/step - loss: 0.0493 - accuracy: 0.9845 - val_loss: 0.1016 - val_accuracy: 0.9893\n",
      "Epoch 24/100\n",
      "179/179 [==============================] - 19s 202ms/step - loss: 0.0383 - accuracy: 0.9876 - val_loss: 0.1773 - val_accuracy: 0.9737\n",
      "Epoch 25/100\n",
      "179/179 [==============================] - 19s 203ms/step - loss: 0.0446 - accuracy: 0.9869 - val_loss: 0.1407 - val_accuracy: 0.9837\n",
      "Epoch 26/100\n",
      "179/179 [==============================] - 19s 202ms/step - loss: 0.1787 - accuracy: 0.9679 - val_loss: 0.1735 - val_accuracy: 0.9851\n",
      "Epoch 27/100\n",
      "179/179 [==============================] - 19s 202ms/step - loss: 0.0378 - accuracy: 0.9888 - val_loss: 0.2124 - val_accuracy: 0.9794\n",
      "Epoch 28/100\n",
      "179/179 [==============================] - 19s 203ms/step - loss: 0.0241 - accuracy: 0.9921 - val_loss: 0.2696 - val_accuracy: 0.9744\n",
      "Epoch 29/100\n",
      "179/179 [==============================] - 19s 203ms/step - loss: 0.0337 - accuracy: 0.9895 - val_loss: 0.2213 - val_accuracy: 0.9865\n",
      "Epoch 30/100\n",
      "179/179 [==============================] - 19s 202ms/step - loss: 0.0343 - accuracy: 0.9905 - val_loss: 0.2242 - val_accuracy: 0.9759\n",
      "Epoch 31/100\n",
      "179/179 [==============================] - 19s 203ms/step - loss: 0.0312 - accuracy: 0.9910 - val_loss: 0.2077 - val_accuracy: 0.9830\n",
      "Epoch 32/100\n",
      "179/179 [==============================] - 19s 203ms/step - loss: 0.0303 - accuracy: 0.9913 - val_loss: 0.2597 - val_accuracy: 0.9851\n",
      "Epoch 33/100\n",
      "179/179 [==============================] - 19s 203ms/step - loss: 0.0337 - accuracy: 0.9911 - val_loss: 0.2056 - val_accuracy: 0.9865\n",
      "Epoch 34/100\n",
      "179/179 [==============================] - 19s 201ms/step - loss: 0.0224 - accuracy: 0.9929 - val_loss: 0.2135 - val_accuracy: 0.9879\n",
      "Epoch 35/100\n",
      "179/179 [==============================] - 19s 203ms/step - loss: 0.0309 - accuracy: 0.9909 - val_loss: 0.2683 - val_accuracy: 0.9872\n",
      "Epoch 36/100\n",
      "179/179 [==============================] - 19s 202ms/step - loss: 0.0330 - accuracy: 0.9925 - val_loss: 0.2909 - val_accuracy: 0.9893\n",
      "Epoch 37/100\n",
      "179/179 [==============================] - 19s 203ms/step - loss: 0.0244 - accuracy: 0.9924 - val_loss: 0.3283 - val_accuracy: 0.9837\n",
      "Epoch 38/100\n",
      "179/179 [==============================] - 19s 203ms/step - loss: 0.0234 - accuracy: 0.9931 - val_loss: 0.2824 - val_accuracy: 0.9837\n",
      "Epoch 39/100\n",
      "179/179 [==============================] - 19s 202ms/step - loss: 0.0258 - accuracy: 0.9927 - val_loss: 0.3336 - val_accuracy: 0.9837\n",
      "Epoch 40/100\n",
      "179/179 [==============================] - 19s 202ms/step - loss: 0.0250 - accuracy: 0.9934 - val_loss: 0.2156 - val_accuracy: 0.9837\n",
      "Epoch 41/100\n",
      "179/179 [==============================] - 19s 202ms/step - loss: 0.0285 - accuracy: 0.9931 - val_loss: 0.2367 - val_accuracy: 0.9808\n",
      "Epoch 42/100\n",
      "179/179 [==============================] - 19s 203ms/step - loss: 0.0249 - accuracy: 0.9929 - val_loss: 0.2367 - val_accuracy: 0.9893\n",
      "Epoch 43/100\n",
      "179/179 [==============================] - 19s 203ms/step - loss: 0.0238 - accuracy: 0.9939 - val_loss: 0.3351 - val_accuracy: 0.9808\n",
      "Epoch 44/100\n",
      "179/179 [==============================] - 19s 203ms/step - loss: 0.0171 - accuracy: 0.9955 - val_loss: 0.2691 - val_accuracy: 0.9886\n",
      "Epoch 45/100\n",
      "179/179 [==============================] - 19s 203ms/step - loss: 0.0209 - accuracy: 0.9950 - val_loss: 0.3023 - val_accuracy: 0.9865\n",
      "Epoch 46/100\n",
      "179/179 [==============================] - 19s 204ms/step - loss: 0.0205 - accuracy: 0.9940 - val_loss: 0.2015 - val_accuracy: 0.9858\n",
      "Epoch 47/100\n",
      "179/179 [==============================] - 19s 203ms/step - loss: 0.0226 - accuracy: 0.9932 - val_loss: 0.2833 - val_accuracy: 0.9815\n",
      "Epoch 48/100\n",
      "179/179 [==============================] - 19s 202ms/step - loss: 0.0240 - accuracy: 0.9928 - val_loss: 0.2459 - val_accuracy: 0.9865\n",
      "Epoch 49/100\n",
      "179/179 [==============================] - 19s 203ms/step - loss: 0.0162 - accuracy: 0.9958 - val_loss: 0.4008 - val_accuracy: 0.9886\n",
      "Epoch 50/100\n",
      "179/179 [==============================] - 19s 203ms/step - loss: 0.0199 - accuracy: 0.9947 - val_loss: 0.4584 - val_accuracy: 0.9844\n",
      "Epoch 51/100\n",
      "179/179 [==============================] - 19s 203ms/step - loss: 0.1327 - accuracy: 0.9811 - val_loss: 0.4645 - val_accuracy: 0.9886\n",
      "Epoch 52/100\n",
      "179/179 [==============================] - 19s 203ms/step - loss: 0.0288 - accuracy: 0.9928 - val_loss: 0.4328 - val_accuracy: 0.9837\n",
      "Epoch 53/100\n",
      "179/179 [==============================] - 19s 203ms/step - loss: 0.0125 - accuracy: 0.9961 - val_loss: 0.5094 - val_accuracy: 0.9893\n",
      "Epoch 54/100\n",
      "179/179 [==============================] - 19s 203ms/step - loss: 0.0224 - accuracy: 0.9946 - val_loss: 0.3657 - val_accuracy: 0.9893\n",
      "Epoch 55/100\n",
      "179/179 [==============================] - 19s 204ms/step - loss: 0.0135 - accuracy: 0.9961 - val_loss: 0.4734 - val_accuracy: 0.9844\n",
      "Epoch 56/100\n",
      "179/179 [==============================] - 19s 203ms/step - loss: 0.0161 - accuracy: 0.9952 - val_loss: 0.4592 - val_accuracy: 0.9893\n",
      "Epoch 57/100\n",
      "179/179 [==============================] - 19s 203ms/step - loss: 0.0164 - accuracy: 0.9951 - val_loss: 0.3919 - val_accuracy: 0.9886\n",
      "Epoch 58/100\n",
      "179/179 [==============================] - 19s 203ms/step - loss: 0.0124 - accuracy: 0.9964 - val_loss: 0.4932 - val_accuracy: 0.9872\n",
      "Epoch 59/100\n",
      "179/179 [==============================] - 19s 203ms/step - loss: 0.0185 - accuracy: 0.9957 - val_loss: 0.5258 - val_accuracy: 0.9844\n",
      "Epoch 60/100\n",
      "179/179 [==============================] - 19s 203ms/step - loss: 0.0229 - accuracy: 0.9936 - val_loss: 0.4912 - val_accuracy: 0.9851\n",
      "Epoch 61/100\n",
      "179/179 [==============================] - 19s 202ms/step - loss: 0.0128 - accuracy: 0.9967 - val_loss: 0.3972 - val_accuracy: 0.9893\n",
      "Epoch 62/100\n",
      "179/179 [==============================] - 19s 203ms/step - loss: 0.0272 - accuracy: 0.9949 - val_loss: 0.3745 - val_accuracy: 0.9879\n",
      "Epoch 63/100\n",
      "179/179 [==============================] - 19s 204ms/step - loss: 0.0163 - accuracy: 0.9956 - val_loss: 0.5020 - val_accuracy: 0.9794\n",
      "Epoch 64/100\n",
      "179/179 [==============================] - 19s 203ms/step - loss: 0.0143 - accuracy: 0.9966 - val_loss: 0.4673 - val_accuracy: 0.9908\n",
      "Epoch 65/100\n",
      "179/179 [==============================] - 19s 203ms/step - loss: 0.0168 - accuracy: 0.9951 - val_loss: 0.6732 - val_accuracy: 0.9766\n",
      "Epoch 66/100\n",
      "179/179 [==============================] - 19s 202ms/step - loss: 0.0179 - accuracy: 0.9941 - val_loss: 0.5836 - val_accuracy: 0.9787\n",
      "Epoch 67/100\n",
      "179/179 [==============================] - 19s 203ms/step - loss: 0.0307 - accuracy: 0.9948 - val_loss: 0.6293 - val_accuracy: 0.9773\n",
      "Epoch 68/100\n",
      "179/179 [==============================] - 19s 204ms/step - loss: 0.0169 - accuracy: 0.9957 - val_loss: 0.6333 - val_accuracy: 0.9773\n",
      "Epoch 69/100\n",
      "179/179 [==============================] - 19s 203ms/step - loss: 0.0188 - accuracy: 0.9946 - val_loss: 0.6783 - val_accuracy: 0.9801\n",
      "Epoch 70/100\n",
      "179/179 [==============================] - 19s 203ms/step - loss: 0.0175 - accuracy: 0.9958 - val_loss: 0.5446 - val_accuracy: 0.9787\n",
      "Epoch 71/100\n",
      "179/179 [==============================] - 19s 203ms/step - loss: 0.0199 - accuracy: 0.9955 - val_loss: 0.6412 - val_accuracy: 0.9822\n",
      "Epoch 72/100\n",
      "179/179 [==============================] - 19s 204ms/step - loss: 0.0162 - accuracy: 0.9957 - val_loss: 0.6809 - val_accuracy: 0.9751\n",
      "Epoch 73/100\n",
      "179/179 [==============================] - 19s 204ms/step - loss: 0.0166 - accuracy: 0.9949 - val_loss: 0.5429 - val_accuracy: 0.9801\n",
      "Epoch 74/100\n",
      "179/179 [==============================] - 19s 203ms/step - loss: 0.0147 - accuracy: 0.9958 - val_loss: 0.5193 - val_accuracy: 0.9780\n",
      "Epoch 75/100\n",
      "179/179 [==============================] - 19s 203ms/step - loss: 0.0148 - accuracy: 0.9966 - val_loss: 0.6136 - val_accuracy: 0.9808\n",
      "Epoch 76/100\n",
      "179/179 [==============================] - 19s 204ms/step - loss: 0.0125 - accuracy: 0.9964 - val_loss: 0.5822 - val_accuracy: 0.9858\n",
      "Epoch 77/100\n",
      "179/179 [==============================] - 19s 204ms/step - loss: 0.0204 - accuracy: 0.9949 - val_loss: 0.7825 - val_accuracy: 0.9808\n",
      "Epoch 78/100\n",
      "179/179 [==============================] - 19s 202ms/step - loss: 0.0120 - accuracy: 0.9959 - val_loss: 0.6177 - val_accuracy: 0.9872\n",
      "Epoch 79/100\n",
      "179/179 [==============================] - 19s 203ms/step - loss: 0.0220 - accuracy: 0.9951 - val_loss: 0.7112 - val_accuracy: 0.9815\n",
      "Epoch 80/100\n",
      "179/179 [==============================] - 19s 204ms/step - loss: 0.0158 - accuracy: 0.9956 - val_loss: 0.6473 - val_accuracy: 0.9893\n",
      "Epoch 81/100\n",
      "179/179 [==============================] - 19s 202ms/step - loss: 0.0082 - accuracy: 0.9972 - val_loss: 0.6184 - val_accuracy: 0.9886\n",
      "Epoch 82/100\n",
      "179/179 [==============================] - 19s 203ms/step - loss: 0.0105 - accuracy: 0.9976 - val_loss: 0.5745 - val_accuracy: 0.9872\n",
      "Epoch 83/100\n",
      "179/179 [==============================] - 19s 203ms/step - loss: 0.0132 - accuracy: 0.9964 - val_loss: 0.7781 - val_accuracy: 0.9879\n",
      "Epoch 84/100\n",
      "179/179 [==============================] - 19s 203ms/step - loss: 0.0176 - accuracy: 0.9952 - val_loss: 0.6838 - val_accuracy: 0.9872\n",
      "Epoch 85/100\n",
      "179/179 [==============================] - 19s 204ms/step - loss: 0.0203 - accuracy: 0.9958 - val_loss: 0.5292 - val_accuracy: 0.9901\n",
      "Epoch 86/100\n",
      "179/179 [==============================] - 19s 204ms/step - loss: 0.0176 - accuracy: 0.9957 - val_loss: 0.7621 - val_accuracy: 0.9858\n",
      "Epoch 87/100\n",
      "179/179 [==============================] - 19s 203ms/step - loss: 0.0264 - accuracy: 0.9955 - val_loss: 0.6930 - val_accuracy: 0.9901\n",
      "Epoch 88/100\n",
      "179/179 [==============================] - 19s 203ms/step - loss: 0.0237 - accuracy: 0.9959 - val_loss: 0.4705 - val_accuracy: 0.9858\n",
      "Epoch 89/100\n",
      "179/179 [==============================] - 19s 204ms/step - loss: 0.0179 - accuracy: 0.9962 - val_loss: 0.5297 - val_accuracy: 0.9893\n",
      "Epoch 90/100\n",
      "179/179 [==============================] - 19s 203ms/step - loss: 0.0162 - accuracy: 0.9958 - val_loss: 0.5694 - val_accuracy: 0.9879\n",
      "Epoch 91/100\n",
      "179/179 [==============================] - 19s 203ms/step - loss: 0.0140 - accuracy: 0.9965 - val_loss: 0.5722 - val_accuracy: 0.9886\n",
      "Epoch 92/100\n",
      "179/179 [==============================] - 19s 203ms/step - loss: 0.0135 - accuracy: 0.9968 - val_loss: 0.7136 - val_accuracy: 0.9858\n",
      "Epoch 93/100\n",
      "179/179 [==============================] - 19s 203ms/step - loss: 0.0633 - accuracy: 0.9942 - val_loss: 0.8415 - val_accuracy: 0.9844\n",
      "Epoch 94/100\n",
      "179/179 [==============================] - 19s 203ms/step - loss: 0.0254 - accuracy: 0.9945 - val_loss: 0.6162 - val_accuracy: 0.9830\n",
      "Epoch 95/100\n",
      "179/179 [==============================] - 19s 203ms/step - loss: 0.0204 - accuracy: 0.9955 - val_loss: 0.5298 - val_accuracy: 0.9844\n",
      "Epoch 96/100\n",
      "179/179 [==============================] - 19s 204ms/step - loss: 0.0147 - accuracy: 0.9969 - val_loss: 0.3236 - val_accuracy: 0.9879\n",
      "Epoch 97/100\n",
      "179/179 [==============================] - 19s 203ms/step - loss: 0.0154 - accuracy: 0.9957 - val_loss: 0.5329 - val_accuracy: 0.9886\n",
      "Epoch 98/100\n",
      "179/179 [==============================] - 19s 203ms/step - loss: 0.0130 - accuracy: 0.9967 - val_loss: 0.6072 - val_accuracy: 0.9844\n",
      "Epoch 99/100\n",
      "179/179 [==============================] - 19s 204ms/step - loss: 0.0208 - accuracy: 0.9963 - val_loss: 0.6339 - val_accuracy: 0.9886\n",
      "Epoch 100/100\n",
      "179/179 [==============================] - 19s 204ms/step - loss: 0.0156 - accuracy: 0.9962 - val_loss: 0.6954 - val_accuracy: 0.9844\n"
     ]
    }
   ],
   "source": [
    "epochs = 100\n",
    "H = model3.fit_generator(train_generator,\n",
    "    steps_per_epoch = nb_train_samples // batch_size, \n",
    "    epochs = epochs, validation_data = validation_generator, \n",
    "    validation_steps = nb_validation_samples // batch_size, callbacks = [t_board]) "
   ]
  },
  {
   "cell_type": "code",
   "execution_count": 13,
   "metadata": {},
   "outputs": [
    {
     "name": "stdout",
     "output_type": "stream",
     "text": [
      "INFO:tensorflow:Assets written to: DL logs/logs\\Model_CNN_30.05.2021-16_24/mymodel\\assets\n"
     ]
    }
   ],
   "source": [
    "model3.save(logdir+'/mymodel')"
   ]
  },
  {
   "cell_type": "code",
   "execution_count": 14,
   "metadata": {},
   "outputs": [
    {
     "data": {
      "text/plain": [
       "{'25-30': 0, '42-48': 1, '6-20': 2, '60-98': 3}"
      ]
     },
     "execution_count": 14,
     "metadata": {},
     "output_type": "execute_result"
    }
   ],
   "source": [
    "validation_generator.class_indices"
   ]
  },
  {
   "cell_type": "code",
   "execution_count": 16,
   "metadata": {},
   "outputs": [
    {
     "name": "stderr",
     "output_type": "stream",
     "text": [
      "C:\\Users\\Notebook\\anaconda3\\lib\\site-packages\\tensorflow\\python\\keras\\engine\\training.py:1905: UserWarning: `Model.predict_generator` is deprecated and will be removed in a future version. Please use `Model.predict`, which supports generators.\n",
      "  warnings.warn('`Model.predict_generator` is deprecated and '\n"
     ]
    },
    {
     "name": "stdout",
     "output_type": "stream",
     "text": [
      "Classification Report\n",
      "              precision    recall  f1-score   support\n",
      "\n",
      "       25-30       1.00      1.00      1.00       452\n",
      "       42-48       1.00      1.00      1.00       416\n",
      "        6-20       1.00      0.95      0.97       363\n",
      "       60-98       0.96      1.00      0.98       101\n",
      "\n",
      "    accuracy                           0.99      1332\n",
      "   macro avg       0.99      0.99      0.99      1332\n",
      "weighted avg       0.99      0.99      0.99      1332\n",
      "\n"
     ]
    }
   ],
   "source": [
    "from sklearn.metrics import confusion_matrix\n",
    "import seaborn as sns\n",
    "import matplotlib.pyplot as plt\n",
    "from sklearn.metrics import classification_report\n",
    "target_names=['25-30','42-48','6-20','60-98']\n",
    "\n",
    "Y_pred = model3.predict_generator(eval_generator, nb_eval_samples // batch_size+1)\n",
    "y_pred = np.argmax(Y_pred, axis=1)\n",
    "\n",
    "\n",
    "print('Classification Report')\n",
    "report = classification_report(eval_generator.classes, y_pred, target_names=target_names)\n",
    "print(report)"
   ]
  }
 ],
 "metadata": {
  "kernelspec": {
   "display_name": "Python 3",
   "language": "python",
   "name": "python3"
  },
  "language_info": {
   "codemirror_mode": {
    "name": "ipython",
    "version": 3
   },
   "file_extension": ".py",
   "mimetype": "text/x-python",
   "name": "python",
   "nbconvert_exporter": "python",
   "pygments_lexer": "ipython3",
   "version": "3.8.5"
  }
 },
 "nbformat": 4,
 "nbformat_minor": 4
}
